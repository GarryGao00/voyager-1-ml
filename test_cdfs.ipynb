{
 "cells": [
  {
   "cell_type": "code",
   "execution_count": 1,
   "id": "0033d2f2",
   "metadata": {},
   "outputs": [],
   "source": [
    "import torch\n",
    "import torch.nn as nn\n",
    "import torch.optim as optim\n",
    "import math\n",
    "import numpy as np\n",
    "from sklearn.metrics import recall_score\n",
    "\n",
    "import pandas as pd\n",
    "from datetime import datetime\n",
    "import os\n",
    "import spacepy.pycdf as pycdf\n",
    "import matplotlib.pyplot as plt\n",
    "import time as tm\n",
    "\n",
    "path = './voyager_dust_impact_4layer_model_v1.pt'\n",
    "# test_cdf_path = './data/1980/vg1_pws_wf_1980-02-29T00_v1.0.cdf'\n",
    "test_cdf_path = './data/1991/vg1_pws_wf_1991-04-30T09_v1.0.cdf'"
   ]
  },
  {
   "cell_type": "code",
   "execution_count": 2,
   "id": "913a130f",
   "metadata": {},
   "outputs": [
    {
     "data": {
      "text/plain": [
       "Net(\n",
       "  (fc1): Linear(in_features=1600, out_features=256, bias=True)\n",
       "  (fc2): Linear(in_features=256, out_features=128, bias=True)\n",
       "  (fc3): Linear(in_features=128, out_features=64, bias=True)\n",
       "  (fc4): Linear(in_features=64, out_features=1, bias=True)\n",
       "  (activation): Sigmoid()\n",
       ")"
      ]
     },
     "execution_count": 2,
     "metadata": {},
     "output_type": "execute_result"
    }
   ],
   "source": [
    "# Define the neural network model\n",
    "class Net(nn.Module):\n",
    "    def __init__(self):\n",
    "        super(Net, self).__init__()\n",
    "        self.fc1 = nn.Linear(1600, 256)\n",
    "        self.fc2 = nn.Linear(256, 128)\n",
    "        self.fc3 = nn.Linear(128, 64)\n",
    "        self.fc4 = nn.Linear(64, 1)\n",
    "        self.activation = nn.Sigmoid()\n",
    "\n",
    "    def forward(self, x):\n",
    "        x = self.activation(self.fc1(x))\n",
    "        x = self.activation(self.fc2(x))\n",
    "        x = self.activation(self.fc3(x))\n",
    "        x = self.activation(self.fc4(x))\n",
    "        return x\n",
    "\n",
    "# Create an instance of the model\n",
    "model = Net()\n",
    "model.load_state_dict(torch.load(path))\n",
    "model.eval()"
   ]
  },
  {
   "cell_type": "code",
   "execution_count": 3,
   "id": "6079b5ac",
   "metadata": {},
   "outputs": [],
   "source": [
    "# read in cdf information\n",
    "test_cdf = pycdf.CDF(test_cdf_path)\n",
    "time = test_cdf['Epoch'][:]\n",
    "part = test_cdf['Part'][:]\n",
    "sclk = test_cdf['SCLK'][:]\n",
    "waveform = test_cdf['Waveform'][:]\n",
    "time_offsets = test_cdf['timeOffsets'][:]\n",
    "test_cdf.close()"
   ]
  },
  {
   "cell_type": "code",
   "execution_count": 4,
   "id": "73110f5b",
   "metadata": {},
   "outputs": [
    {
     "name": "stdout",
     "output_type": "stream",
     "text": [
      "6\n"
     ]
    }
   ],
   "source": [
    "# test run the cdf using the model\n",
    "waveform_tensor = torch.Tensor(waveform)\n",
    "with torch.no_grad():\n",
    "    y_pred = model(waveform_tensor)\n",
    "    y_pred_binary = torch.round(y_pred).squeeze().tolist()\n",
    "\n",
    "# get the indices of 1s\n",
    "indices = np.where(np.array(y_pred_binary) == 1)[0]\n",
    "print(len(indices))"
   ]
  },
  {
   "cell_type": "code",
   "execution_count": 5,
   "id": "3bd87235",
   "metadata": {},
   "outputs": [
    {
     "name": "stdout",
     "output_type": "stream",
     "text": [
      "index = 54, sclk = 35931:40:072, closest_dt= 1991-04-30 09:05:35.210999\n",
      "index = 78, sclk = 35931:40:096, closest_dt= 1991-04-30 09:05:36.651000\n",
      "index = 568, sclk = 35931:40:586, closest_dt= 1991-04-30 09:06:06.051000\n",
      "index = 660, sclk = 35931:40:678, closest_dt= 1991-04-30 09:06:11.570999\n",
      "index = 730, sclk = 35931:40:748, closest_dt= 1991-04-30 09:06:15.771000\n",
      "index = 731, sclk = 35931:40:749, closest_dt= 1991-04-30 09:06:15.830999\n"
     ]
    }
   ],
   "source": [
    "for index in indices:\n",
    "    detail = f'index = {index}, sclk = {sclk[index]}, closest_dt= {time[index]}'\n",
    "    print(detail)\n",
    "\n",
    "    # Graph\n",
    "    # Create an array with values ranging from -15 to 15\n",
    "    x = waveform[index, :]\n",
    "\n",
    "    # Create a figure with four subplots\n",
    "    fig, axs = plt.subplots(nrows=4, figsize=(8, 10))\n",
    "\n",
    "    # Plot a section of the array in each subplot\n",
    "    axs[0].plot(x[:400], linewidth=1)\n",
    "    axs[1].plot(x[400:800], linewidth=1)\n",
    "    axs[2].plot(x[800:1200], linewidth=1)\n",
    "    axs[3].plot(x[1200:1600], linewidth=1)\n",
    "\n",
    "    # Set the y-axis limits to -15 and 15\n",
    "    for ax in axs:\n",
    "        ax.set_ylim([-15, 15])\n",
    "    \n",
    "    plt.text(5, 0.5, detail)\n",
    "\n",
    "    # Show the plot\n",
    "    # plt.show()\n",
    "    plt.savefig(f'/Volumes/Garrys_T7/voyager-1-ml/temp/{index}.png')\n",
    "    plt.close()\n"
   ]
  },
  {
   "cell_type": "code",
   "execution_count": null,
   "id": "0af117c0",
   "metadata": {},
   "outputs": [],
   "source": []
  }
 ],
 "metadata": {
  "kernelspec": {
   "display_name": "Python 3 (ipykernel)",
   "language": "python",
   "name": "python3"
  },
  "language_info": {
   "codemirror_mode": {
    "name": "ipython",
    "version": 3
   },
   "file_extension": ".py",
   "mimetype": "text/x-python",
   "name": "python",
   "nbconvert_exporter": "python",
   "pygments_lexer": "ipython3",
   "version": "3.10.10"
  }
 },
 "nbformat": 4,
 "nbformat_minor": 5
}
